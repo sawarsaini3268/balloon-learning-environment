{
 "cells": [
  {
   "cell_type": "markdown",
   "metadata": {
    "id": "u8hGsWm_qiGT"
   },
   "source": [
    "Copyright 2021 The Balloon Learning Environment Authors.\n",
    "\n",
    "Licensed under the Apache License, Version 2.0 (the \"License\");\n",
    "you may not use this file except in compliance with the License.\n",
    "You may obtain a copy of the License at\n",
    "\n",
    "    http://www.apache.org/licenses/LICENSE-2.0\n",
    "\n",
    "Unless required by applicable law or agreed to in writing, software\n",
    "distributed under the License is distributed on an \"AS IS\" BASIS,\n",
    "WITHOUT WARRANTIES OR CONDITIONS OF ANY KIND, either express or implied.\n",
    "See the License for the specific language governing permissions and\n",
    "limitations under the License."
   ]
  },
  {
   "cell_type": "code",
   "execution_count": null,
   "metadata": {
    "cellView": "form",
    "id": "VoqfM73Tmji_"
   },
   "outputs": [],
   "source": [
    "# @title Imports\n",
    "import collections\n",
    "import json\n",
    "\n",
    "from google.colab import files\n",
    "import matplotlib.pyplot as plt\n",
    "import pandas as pd\n",
    "\n",
    "from IPython.display import HTML"
   ]
  },
  {
   "cell_type": "code",
   "execution_count": null,
   "metadata": {
    "cellView": "form",
    "id": "GgEqoO-9mpkt"
   },
   "outputs": [],
   "source": [
    "# @title Upload Data\n",
    "uploaded_files = files.upload()\n",
    "dataframes = dict()\n",
    "\n",
    "for name, data in uploaded_files.items():\n",
    "  name = name.rsplit('.', maxsplit=1)[0]\n",
    "  json_data = json.loads(data)\n",
    "  dataframes[name] = pd.DataFrame.from_dict(json_data)"
   ]
  },
  {
   "cell_type": "code",
   "execution_count": null,
   "metadata": {
    "cellView": "form",
    "id": "JGMAmrANm0an"
   },
   "outputs": [],
   "source": [
    "# @title Print Aggregate results\n",
    "aggregate_data = collections.defaultdict(list)\n",
    "for name, df in dataframes.items():\n",
    "  aggregate_data['num episodes'].append(len(df.out_of_power))\n",
    "  aggregate_data['out of power'].append(df.out_of_power.sum())\n",
    "  aggregate_data['zeropressure'].append(df.zeropressure.sum())\n",
    "  aggregate_data['envelope burst'].append(df.envelope_burst.sum())\n",
    "\n",
    "  finished_runs = df.loc[df.out_of_power == False]\n",
    "  finished_runs = finished_runs.loc[finished_runs.zeropressure == False]\n",
    "  finished_runs = finished_runs.loc[finished_runs.envelope_burst == False]\n",
    "  aggregate_data['mean cumulative reward (finished episodes)'].append(\n",
    "      finished_runs.cumulative_reward.mean())\n",
    "  aggregate_data['mean TWR50 (finished episodes)'].append(\n",
    "      finished_runs.time_within_radius.mean())\n",
    "  aggregate_data['mean cumulative reward (all episodes)'].append(\n",
    "      df.cumulative_reward.mean())\n",
    "  aggregate_data['mean TWR50 (all episodes)'].append(\n",
    "      df.time_within_radius.mean())\n",
    "\n",
    "df = pd.DataFrame(aggregate_data)\n",
    "df.index = dataframes.keys()\n",
    "\n",
    "# This is a little hacky, but it works 🤷‍♂️ \n",
    "html = df.to_html()\n",
    "html += \"<style>th {max-width: 150px}</style>\"\n",
    "HTML(html)"
   ]
  }
 ],
 "metadata": {
  "colab": {
   "collapsed_sections": [],
   "name": "Summarize Eval",
   "provenance": []
  },
  "kernelspec": {
   "display_name": "Python 3 (ipykernel)",
   "language": "python",
   "name": "python3"
  },
  "language_info": {
   "codemirror_mode": {
    "name": "ipython",
    "version": 3
   },
   "file_extension": ".py",
   "mimetype": "text/x-python",
   "name": "python",
   "nbconvert_exporter": "python",
   "pygments_lexer": "ipython3",
   "version": "3.9.19"
  }
 },
 "nbformat": 4,
 "nbformat_minor": 4
}
